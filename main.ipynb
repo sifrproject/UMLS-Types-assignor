{
 "cells": [
  {
   "cell_type": "markdown",
   "metadata": {},
   "source": [
    "### Step 0 - Generate data.csv from get_data.py\n",
    "\n",
    "```bash\n",
    "$ python get_data.py\n",
    "```"
   ]
  },
  {
   "cell_type": "code",
   "execution_count": 1,
   "metadata": {},
   "outputs": [],
   "source": [
    "# Import the libraries\n",
    "\n",
    "import pandas as pd"
   ]
  },
  {
   "cell_type": "markdown",
   "metadata": {},
   "source": [
    "### Step 1 - Get the data and split the features and the results\n",
    "\n",
    "X is a matrix of features, and y is a matrix of results."
   ]
  },
  {
   "cell_type": "code",
   "execution_count": 2,
   "metadata": {},
   "outputs": [
    {
     "name": "stdout",
     "output_type": "stream",
     "text": [
      "Features:\n",
      "    Nb_Parents  Nb_Children  Has_Nb_Parents_And_Children  TUI_Index\n",
      "0         0.9          0.9                            1         98\n",
      "1         0.9          0.9                            1        100\n",
      "2         0.9          0.9                            1        107\n",
      "3         1.0          1.0                            1         96\n",
      "4         1.0          1.0                            1        100\n",
      "Results:\n",
      " 0     98\n",
      "1    100\n",
      "2    107\n",
      "3     96\n",
      "4    100\n",
      "Name: TUI_Index, dtype: int64\n"
     ]
    }
   ],
   "source": [
    "# Import data.csv\n",
    "data = pd.read_csv('data.csv')\n",
    "\n",
    "# Split the data into X and Y\n",
    "X = data.drop(['Label', 'Source', 'CUI', 'Definition', 'Has_Definition', 'TUI'], axis=1)\n",
    "Y = data['TUI_Index']\n",
    "\n",
    "print(\"Features:\\n\", X.head())\n",
    "print(\"Results:\\n\", Y.head())"
   ]
  }
 ],
 "metadata": {
  "interpreter": {
   "hash": "31f2aee4e71d21fbe5cf8b01ff0e069b9275f58929596ceb00d14d90e3e16cd6"
  },
  "kernelspec": {
   "display_name": "Python 3.8.10 64-bit",
   "language": "python",
   "name": "python3"
  },
  "language_info": {
   "codemirror_mode": {
    "name": "ipython",
    "version": 3
   },
   "file_extension": ".py",
   "mimetype": "text/x-python",
   "name": "python",
   "nbconvert_exporter": "python",
   "pygments_lexer": "ipython3",
   "version": "3.8.10"
  },
  "orig_nbformat": 4
 },
 "nbformat": 4,
 "nbformat_minor": 2
}
